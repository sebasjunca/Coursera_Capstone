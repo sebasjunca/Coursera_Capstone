{
 "cells": [
  {
   "cell_type": "markdown",
   "metadata": {},
   "source": [
    "# <font color =blue> <center>__Capstone Project Final Assignment__</font></center>"
   ]
  },
  {
   "cell_type": "markdown",
   "metadata": {},
   "source": [
    "## Index\n",
    "\n",
    "1. Introduction - Project Description\n",
    "2. Data and resources\n",
    "3. Development\n",
    "4. Analysis - Conclusion"
   ]
  },
  {
   "cell_type": "markdown",
   "metadata": {},
   "source": [
    "### 1. Introduction - Project Description\n",
    "\n",
    "I have a passion for wines and food, after living in Madrid and Barcelona I can tell that Spanish food combines great taste and sophistication which results in an excellent business opportunity around the world.\n",
    "\n",
    "One of my short term plans is to move to NY City and implement one of my different business ideas. However, having a Spanish restaurant is something quite common in big cities such as NY, this is why I have decided to innovate and adapt the business plan in order to be different and have more costumers and hopefully succeed. This is why my project will be to find the best possible locations for opening an experience center to discover and enjoy Spanish wine and gastronomy.\n",
    "\n",
    "The new concept/business requires the knowledge of different points of interests or venues that are related to the Spanish culture and gastronomy. This is why I’ll be using Foursquare information of Wine shops, Wine Bars, Paella Restaurants, Spanish Restaurants and Tapas Restaurants order to find an ideal location for the business.\n",
    "\n",
    "The following procedure can be used to implement any business idea on any city of the world, and therefore can be used as a marketing tool for companies to discover  new locations and improve existing ones in order to maximise utilities.\n",
    "\n"
   ]
  },
  {
   "cell_type": "markdown",
   "metadata": {},
   "source": [
    "### 2. Data and resources\n",
    "\n",
    "For this project we need the following data :\n",
    "\n",
    "1. New York City data containing Boroughs, Neighbourhoods, Coordinates. This can be found here: https://cocl.us/new_york_dataset ",
    "\n",
    "2. Foursquare venues information, specially Wine shops, Wine Bars, Paella Restaurants, Spanish Restaurants and Tapas Restaurants. This data can be obtained directly from the Foursquare API.\n",
    "\n",
    "\n"
   ]
  },
  {
   "cell_type": "code",
   "execution_count": null,
   "metadata": {},
   "outputs": [],
   "source": []
  }
 ],
 "metadata": {
  "kernelspec": {
   "display_name": "Python 3",
   "language": "python",
   "name": "python3"
  },
  "language_info": {
   "codemirror_mode": {
    "name": "ipython",
    "version": 3
   },
   "file_extension": ".py",
   "mimetype": "text/x-python",
   "name": "python",
   "nbconvert_exporter": "python",
   "pygments_lexer": "ipython3",
   "version": "3.7.6"
  }
 },
 "nbformat": 4,
 "nbformat_minor": 4
}
