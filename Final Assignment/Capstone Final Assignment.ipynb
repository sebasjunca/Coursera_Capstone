{
 "cells": [
  {
   "cell_type": "markdown",
   "metadata": {},
   "source": [
    "# <font color =blue> <center>__Capstone Project Final Assignment__</font></center>"
   ]
  },
  {
   "cell_type": "markdown",
   "metadata": {},
   "source": [
    "## Index\n",
    "\n",
    "1. Introduction - Project Description\n",
    "2. Data and resources\n",
    "3. Methodology\n",
    "4. Results\n",
    "5. Discussion\n",
    "6. Conclusion"
   ]
  },
  {
   "cell_type": "markdown",
   "metadata": {},
   "source": [
    "### 1. Introduction - Project Description\n",
    "\n",
    "I have a passion for wines and food, after living in Madrid and Barcelona I can tell that Spanish food combines great taste and sophistication which results in an excellent business opportunity around the world.\n",
    "\n",
    "One of my short term plans is to move to NY City and implement one of my different business ideas. However, having a Spanish restaurant is something quite common in big cities such as NY, this is why I have decided to innovate and adapt the business plan in order to be different and have more costumers and hopefully succeed. This is why my project will be to find the best possible locations for opening an experience center to discover and enjoy Spanish wine and gastronomy.\n",
    "\n",
    "The new concept/business requires the knowledge of different points of interests or venues that are related to the Spanish culture and gastronomy. This is why I’ll be using Foursquare information of Wine shops, Wine Bars, Paella Restaurants, Spanish Restaurants and Tapas Restaurants order to find an ideal location for the business.\n",
    "\n",
    "The following procedure can be used to implement any business idea on any city of the world, and therefore can be used as a marketing tool for companies to discover  new locations and improve existing ones in order to maximise utilities.\n",
    "\n"
   ]
  },
  {
   "cell_type": "markdown",
   "metadata": {},
   "source": [
    "### 2. Data and resources\n",
    "\n",
    "For this project we need the following data :\n",
    "\n",
    "1. New York City data containing Boroughs, Neighbourhoods, Coordinates. This can be found here: https://cocl.us/new_york_dataset ",
    "\n",
    "2. Foursquare venues information, specially Wine shops, Wine Bars, Paella Restaurants, Spanish Restaurants and Tapas Restaurants. This data can be obtained directly from the Foursquare API.\n",
    "\n",
    "\n"
   ]
  },
  {
   "cell_type": "markdown",
   "metadata": {},
   "source": [
    "### 3. Methodology\n",
    "\n",
    "The following libraries are needed:\n",
    "\n",
    "- numpy\n",
    "- pandas\n",
    "- geopy\n",
    "- json\n",
    "- matplotlib\n",
    "- sklearn\n",
    "- folium\n",
    "\n",
    "1. First we gather the needed information (New York boroughs and neighbourhoods with coordinates)\n",
    "\n",
    "2. Cross this information with Foursquare data in order to obtain the Wine shops, Wine Bars, Paella Restaurants, Spanish Restaurants and Tapas Restaurants per neighbourhood.\n",
    "\n",
    "3. Once the dataframe is created and cleaned (some data must be filtered using .drop, remove NaN values with .dropna and more) the K means clustering must be done.\n",
    "\n",
    "4. Clustering the information helps to make a more reliable analysis, grouping the information based on the venue data for each neighbourhood.\n",
    "\n",
    "5. Finally, after having grouped the neighbourhoods based on the venues data an analysis can be made."
   ]
  },
  {
   "cell_type": "markdown",
   "metadata": {},
   "source": [
    "### 4. Results\n",
    "\n",
    "Based on the data, Boroughs like Brooklyn and Manhattan have the most wine shops and wine bars. This could indicate those Boroughs are ideal to open a new store. From all the neighbourhoods of Brooklyn and Manhattan, Williamsburg, East Flatbush, Windsor Terrace , South Side, and North Side are perhaps the most ideal locations to open a new experience center of Spanish Wine and Tapas.\n",
    "\n",
    "\n"
   ]
  },
  {
   "cell_type": "markdown",
   "metadata": {},
   "source": [
    "<img src = \"images/Cluster_map.png\" />"
   ]
  },
  {
   "cell_type": "markdown",
   "metadata": {},
   "source": [
    "#### Cluster 1\n",
    "\n",
    "<img src=\"images/Cluster_1.png\" />"
   ]
  },
  {
   "cell_type": "markdown",
   "metadata": {},
   "source": [
    "#### Cluster 2\n",
    "\n",
    "<img src=\"images/Cluster_2.png\" />"
   ]
  },
  {
   "cell_type": "markdown",
   "metadata": {},
   "source": [
    "#### Cluster 3\n",
    "\n",
    "<img src=\"images/Cluster_3.png\" />"
   ]
  },
  {
   "cell_type": "markdown",
   "metadata": {},
   "source": [
    "#### Cluster 4\n",
    "\n",
    "<img src=\"images/Cluster_4.png\" />"
   ]
  },
  {
   "cell_type": "markdown",
   "metadata": {},
   "source": [
    "#### Cluster 5\n",
    "\n",
    "<img src=\"images/Cluster_5.png\" />"
   ]
  },
  {
   "cell_type": "markdown",
   "metadata": {},
   "source": [
    "### 5. Discussions\n",
    "\n",
    "This methodology works perfect to understand based on the number of venues, where is the best possible location to open a new business, however there are a lot of different factors that have to be included such as (land use, communities and culture of the area, security, transport, and more). Gathering the data of all the variables is a good exercise that requires field work and a deep market analysis.\n"
   ]
  },
  {
   "cell_type": "markdown",
   "metadata": {},
   "source": [
    "### 6. Conclusion\n",
    "\n",
    "For areas like marketing, Machine Learning is an excellent tool to increase the available data and analysis to make more and better decisions. This methodology must be complemented with other techniques such as deep market analysis in order to be sure that opening a Spanish wine and tapas experience center is going to be a success business or not."
   ]
  },
  {
   "cell_type": "code",
   "execution_count": null,
   "metadata": {},
   "outputs": [],
   "source": []
  }
 ],
 "metadata": {
  "kernelspec": {
   "display_name": "Python 3",
   "language": "python",
   "name": "python3"
  },
  "language_info": {
   "codemirror_mode": {
    "name": "ipython",
    "version": 3
   },
   "file_extension": ".py",
   "mimetype": "text/x-python",
   "name": "python",
   "nbconvert_exporter": "python",
   "pygments_lexer": "ipython3",
   "version": "3.7.6"
  }
 },
 "nbformat": 4,
 "nbformat_minor": 4
}
